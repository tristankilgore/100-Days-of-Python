{
  "nbformat": 4,
  "nbformat_minor": 0,
  "metadata": {
    "colab": {
      "provenance": [],
      "toc_visible": true,
      "authorship_tag": "ABX9TyOn4mL7VegwwVhe3akmoFJh",
      "include_colab_link": true
    },
    "kernelspec": {
      "name": "python3",
      "display_name": "Python 3"
    },
    "language_info": {
      "name": "python"
    }
  },
  "cells": [
    {
      "cell_type": "markdown",
      "metadata": {
        "id": "view-in-github",
        "colab_type": "text"
      },
      "source": [
        "<a href=\"https://colab.research.google.com/github/tristankilgore/100-Days-of-Python/blob/main/Day5_IfElseStatements.ipynb\" target=\"_parent\"><img src=\"https://colab.research.google.com/assets/colab-badge.svg\" alt=\"Open In Colab\"/></a>"
      ]
    },
    {
      "cell_type": "markdown",
      "source": [
        "# If Statements"
      ],
      "metadata": {
        "id": "IS6sBUDq4FYG"
      }
    },
    {
      "cell_type": "markdown",
      "source": [
        "Generate actual Q&As with 'if' statements. Create a \"Who am I?\" game with your favorite TV/movie characters.\n",
        "\n",
        "Day 5 Video: https://youtu.be/Wmn9yze6m5U"
      ],
      "metadata": {
        "id": "mzezmPUTAeeb"
      }
    },
    {
      "cell_type": "markdown",
      "source": [
        "These statements are a bit like asking a question. You are telling the computer: if something is true, then do this specific block of code. Double equals (==) is asking the computer to compare if these two things are exactly the same.\n",
        "\n",
        "In the code below, I am asking if the variable myName is the same as the string David."
      ],
      "metadata": {
        "id": "gLBrKiTQ4Lhy"
      }
    },
    {
      "cell_type": "code",
      "source": [
        "myName = input(\"What's your name?: \")\n",
        "if myName == \"David\":"
      ],
      "metadata": {
        "id": "JQSxWJDB4Wku"
      },
      "execution_count": null,
      "outputs": []
    },
    {
      "cell_type": "markdown",
      "source": [
        "# But That Doesn't Print Anything?"
      ],
      "metadata": {
        "id": "q1_ifbfW4uli"
      }
    },
    {
      "cell_type": "markdown",
      "source": [
        "To create a print statement related to the input from the if statement, you must go to the next line and indent once so it is all a part of the code we run.\n",
        "\n",
        "\n"
      ],
      "metadata": {
        "id": "6Iudn1yE4x-G"
      }
    },
    {
      "cell_type": "code",
      "source": [
        "myName = input(\"What's your name?: \")\n",
        "if myName == \"David\":\n",
        "  print(\"Welcome Dude!\")"
      ],
      "metadata": {
        "colab": {
          "base_uri": "https://localhost:8080/"
        },
        "id": "3uOFWY-k47Xj",
        "outputId": "e2755828-dc6b-4933-eaf0-ef54d6c0f15b"
      },
      "execution_count": 2,
      "outputs": [
        {
          "name": "stdout",
          "output_type": "stream",
          "text": [
            "What's your name?: Tom\n"
          ]
        }
      ]
    },
    {
      "cell_type": "markdown",
      "source": [
        "# What is Else?"
      ],
      "metadata": {
        "id": "XadVHxTK5Cp2"
      }
    },
    {
      "cell_type": "markdown",
      "source": [
        "If the condition is not met with the if statement, then we want the computer to do the else part instead. Likewise, if the condition is met in the if statement, then the else bit is ignored by the computer. The else statement must be the first thing unindented after the if statement and in line with it."
      ],
      "metadata": {
        "id": "Gzl2p_p55Fc4"
      }
    },
    {
      "cell_type": "code",
      "source": [
        "myName = input(\"What's your name?: \")\n",
        "if myName == \"David\":\n",
        " print(\"Welcome Dude!\")\n",
        " print(\"You're just the baldest dude I've ever seen\")\n",
        "else:\n",
        " print(\"Who on earth are you?!\")"
      ],
      "metadata": {
        "colab": {
          "base_uri": "https://localhost:8080/"
        },
        "id": "tuuIuqCj5aUh",
        "outputId": "d886b739-a38d-415d-b336-271659bd0177"
      },
      "execution_count": 4,
      "outputs": [
        {
          "output_type": "stream",
          "name": "stdout",
          "text": [
            "What's your name?: Tom\n",
            "Who on earth are you?!\n"
          ]
        }
      ]
    },
    {
      "cell_type": "markdown",
      "source": [
        "# Day 5 Challenge"
      ],
      "metadata": {
        "id": "NCV-BgD_5j3E"
      }
    },
    {
      "cell_type": "markdown",
      "source": [
        "Marvel Movie Character Creator"
      ],
      "metadata": {
        "id": "F36MahZE5noq"
      }
    },
    {
      "cell_type": "code",
      "source": [
        "spiderman = input(\"Do you like 'hanging around'?: \")\n",
        "gravel_voice = input(\"Do you have a gravelly voice?: \")\n",
        "marvel = input(\"Do you often feel 'Marvelous'?: \")\n",
        "\n",
        "if spiderman == \"No\":\n",
        "  print(\"Then you are not Spiderman.\")\n",
        "\n",
        "if gravel_voice == \"No\":\n",
        "  print(\"Aww, then you're not Korg!\")\n",
        "\n",
        "if marvel == \"Yes\":\n",
        "  print(\"Aha! You're Captain Marvel! Hi!\")"
      ],
      "metadata": {
        "id": "bt9KdIyr-S3k"
      },
      "execution_count": null,
      "outputs": []
    }
  ]
}