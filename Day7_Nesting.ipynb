{
  "nbformat": 4,
  "nbformat_minor": 0,
  "metadata": {
    "colab": {
      "provenance": [],
      "authorship_tag": "ABX9TyNxVeBvrkqriVBHeB1m2IyN",
      "include_colab_link": true
    },
    "kernelspec": {
      "name": "python3",
      "display_name": "Python 3"
    },
    "language_info": {
      "name": "python"
    }
  },
  "cells": [
    {
      "cell_type": "markdown",
      "metadata": {
        "id": "view-in-github",
        "colab_type": "text"
      },
      "source": [
        "<a href=\"https://colab.research.google.com/github/tristankilgore/100-Days-of-Python/blob/main/Day7_Nesting.ipynb\" target=\"_parent\"><img src=\"https://colab.research.google.com/assets/colab-badge.svg\" alt=\"Open In Colab\"/></a>"
      ]
    },
    {
      "cell_type": "markdown",
      "source": [
        "# Nesting\n",
        "\n",
        "Like nesting dolls, nest 'if' statements within 'if' statements. Create a game to find true fans of your favorite show.\n",
        "\n",
        "Day 7 Video: https://youtu.be/Abk1jPdnMIc"
      ],
      "metadata": {
        "id": "nJxBt1sOqDVW"
      }
    },
    {
      "cell_type": "markdown",
      "source": [
        "Nesting is where we put an if statement within an if statement using the power of indenting. The second if statement within the first if statement must be indented and its print statement needs to be indented one more time.\n",
        "\n",
        "Do you notice the second if statement below about faveCharacter and how it is indented?"
      ],
      "metadata": {
        "id": "RMLNrCU8qUlL"
      }
    },
    {
      "cell_type": "code",
      "source": [
        "tvShow = input(\"What is your favorite tv show? \")\n",
        "if tvShow == \"peppa pig\":\n",
        "  print(\"Ugh, why?\")\n",
        "  faveCharacter = input(\"Who is your favorite character? \")\n",
        "  if faveCharacter == \"daddy pig\":\n",
        "    print(\"Right answer\")\n",
        "  else:\n",
        "    print(\"Nah, Daddy Pig's the greatest\")\n",
        "elif tvShow == \"paw patrol\":\n",
        "  print(\"Aww, sad times\")\n",
        "else:\n",
        "  print(\"Yeah, that's cool and all…\")"
      ],
      "metadata": {
        "id": "H7Ax-bhMqe1J"
      },
      "execution_count": null,
      "outputs": []
    },
    {
      "cell_type": "markdown",
      "source": [
        "I highly doubt your favorite TV shows are Peppa Pig and Paw Patrol. Copy the code above and change it to match your favorite TV shows and characters."
      ],
      "metadata": {
        "id": "8CZNfFNSqnKY"
      }
    },
    {
      "cell_type": "code",
      "source": [
        "tvShow = input(\"What is your favorite tv show? \")\n",
        "if tvShow == \"Game of Thrones\":\n",
        "  print(\"Ugh, why?\")\n",
        "  faveCharacter = input(\"Who is your favorite character? \")\n",
        "  if faveCharacter == \"Ned Stark\":\n",
        "    print(\"Right answer\")\n",
        "  else:\n",
        "    print(\"Nah, Ned Stark is the greatest\")\n",
        "  favLocation = input(\"What is your favorite location?\")\n",
        "  if favLocation == \"Winterfell\":\n",
        "    print(\"Me too!\")\n",
        "  else:\n",
        "    print(\"You're wrong! Winterfell is best!\")\n",
        "elif tvShow == \"Andor\":\n",
        "  print(\"Aww, great choice though!\")\n",
        "else:\n",
        "  print(\"Yeah, that's cool and all…\")"
      ],
      "metadata": {
        "colab": {
          "base_uri": "https://localhost:8080/"
        },
        "id": "a0RDCGinqoDQ",
        "outputId": "58fe0a7b-6165-4582-b0bc-0a32206c6dd1"
      },
      "execution_count": 3,
      "outputs": [
        {
          "output_type": "stream",
          "name": "stdout",
          "text": [
            "What is your favorite tv show? Ms. Marvel\n",
            "Yeah, that's cool and all…\n"
          ]
        }
      ]
    },
    {
      "cell_type": "markdown",
      "source": [
        "# Day 7 Challenge\n"
      ],
      "metadata": {
        "id": "YMIv_JT3sZFu"
      }
    },
    {
      "cell_type": "code",
      "source": [
        "print(\"Fake Fan Finder\")\n",
        "print(\"---------------\")\n",
        "print(\" \")\n",
        "\n",
        "favAnime = input(\"What is your favorite anime? \")\n",
        "if favAnime == \"One Piece\":\n",
        "  print(\"Hmm... Lets make sure. \")\n",
        "  nameChar = input(\"Name any of the characters.. \")\n",
        "  if nameChar == \"Nami\":\n",
        "    print(\"You really got that by pure chance. \")\n",
        "  else:\n",
        "    print(\"See.. I knew that you weren't a real fan! \")\n",
        "  namiJob = input(\"Okay then. What is her job on the ship? \")\n",
        "  if namiJob == \"Navigator\":\n",
        "    print(\"Hmph! \")\n",
        "  else:\n",
        "    print(\"See.. I knew that you weren't a real fan! \")\n",
        "  namiBounty = input(\"What was Nami's first bounty? \")\n",
        "  if namiBounty == \"16,000,000 berry\":\n",
        "    print(\"Maybe you are a real fan... \")\n",
        "  else:\n",
        "    print(\"See! FAKE One Piece fan! \")\n",
        "elif favAnime == \"Sword Art Online\":\n",
        "  print(\"That is a good choice, not my favorite though. \")\n",
        "else:\n",
        "  print(\"Interesting. Definitely not my favorite. \")"
      ],
      "metadata": {
        "colab": {
          "base_uri": "https://localhost:8080/"
        },
        "id": "rx5k2T8yse0H",
        "outputId": "ba7908fa-1dbe-44f7-acbb-2e16297cff92"
      },
      "execution_count": 13,
      "outputs": [
        {
          "output_type": "stream",
          "name": "stdout",
          "text": [
            "Fake Fan Finder\n",
            "---------------\n",
            " \n",
            "What is your favorite anime? Claymore\n",
            "Interesting. Definitely not my favorite. \n"
          ]
        }
      ]
    }
  ]
}