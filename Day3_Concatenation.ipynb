{
  "nbformat": 4,
  "nbformat_minor": 0,
  "metadata": {
    "colab": {
      "provenance": [],
      "toc_visible": true,
      "authorship_tag": "ABX9TyNms48aujBkQrJMke8rZ2b8",
      "include_colab_link": true
    },
    "kernelspec": {
      "name": "python3",
      "display_name": "Python 3"
    },
    "language_info": {
      "name": "python"
    }
  },
  "cells": [
    {
      "cell_type": "markdown",
      "metadata": {
        "id": "view-in-github",
        "colab_type": "text"
      },
      "source": [
        "<a href=\"https://colab.research.google.com/github/tristankilgore/100-Days-of-Python/blob/main/Day3_Concatenation.ipynb\" target=\"_parent\"><img src=\"https://colab.research.google.com/assets/colab-badge.svg\" alt=\"Open In Colab\"/></a>"
      ]
    },
    {
      "cell_type": "markdown",
      "source": [
        "# Concatenation\n"
      ],
      "metadata": {
        "id": "KMVC-J4VKQx-"
      }
    },
    {
      "cell_type": "markdown",
      "source": [
        "Learn about concatenating. Complete a wacky recipe maker project!\n",
        "\n",
        "Day 3 Video: https://youtu.be/G7r_1NQrSm0"
      ],
      "metadata": {
        "id": "nBj6Y1znMekB"
      }
    },
    {
      "cell_type": "markdown",
      "source": [
        "Concatenation is just a fancy way of the process of joining two strings together.\n",
        "\n",
        "In formal language theory and computer programming, string concatenation is the operation of joining character strings end-to-end. For example, the concatenation of \"snow\" and \"ball\" is \"snowball\".\n",
        "\n",
        "All it really means is combine text (remember, text is called a string) and variables together into single sentences! You can make your input and output look super pretty now! \n",
        "\n",
        "Check out the code below to see it in action!"
      ],
      "metadata": {
        "id": "9XGqGTucKZf_"
      }
    },
    {
      "cell_type": "code",
      "source": [
        "myName = input(\"What's your name? \")\n",
        "myLunch = input(\"What are you having for lunch? \")\n",
        "print(myName, \"is going to be chowing down on\", myLunch, \"very soon!\")\n"
      ],
      "metadata": {
        "colab": {
          "base_uri": "https://localhost:8080/"
        },
        "id": "Jwu3Rg43K3NC",
        "outputId": "467e116e-3dcb-4323-c5cb-454de9becf97"
      },
      "execution_count": 1,
      "outputs": [
        {
          "output_type": "stream",
          "name": "stdout",
          "text": [
            "What's your name? Tristan\n",
            "What are you having for lunch? Pizza\n",
            "Tristan is going to be chowing down on Pizza very soon!\n"
          ]
        }
      ]
    },
    {
      "cell_type": "markdown",
      "source": [
        "You just made a full sentence, right? But how did it work?\n",
        "\n",
        "It turns out print has a super-power. We can give it as many different things to print as we want. All we need to do is put a comma , between every different thing in the ().\n",
        "\n",
        "Now lets try a bunch of code!\n"
      ],
      "metadata": {
        "id": "KS2vlWGlLMRB"
      }
    },
    {
      "cell_type": "code",
      "source": [
        "number = input(\"Give me a number: \")\n",
        "group = input(\"Give me a collective noun for a group of things: \")\n",
        "thing = input(\"Give me the name of a weird or wacky thing: \")\n",
        "print(\"No I don't think that\", number, \"is a\", group, \"of\", thing,\". That's just odd.\")"
      ],
      "metadata": {
        "colab": {
          "base_uri": "https://localhost:8080/"
        },
        "id": "5GPpGG6JLSKH",
        "outputId": "54fac985-1252-4ae4-f982-2f4ce8a75d18"
      },
      "execution_count": 2,
      "outputs": [
        {
          "output_type": "stream",
          "name": "stdout",
          "text": [
            "Give me a number: 2\n",
            "Give me a collective noun for a group of things: school\n",
            "Give me the name of a weird or wacky thing: silly putty\n",
            "No I don't think that 2 is a school of silly putty . That's just odd.\n"
          ]
        }
      ]
    },
    {
      "cell_type": "markdown",
      "source": [
        "You can combine as many things as you want in any order you want, as long as they're separated by that comma!"
      ],
      "metadata": {
        "id": "CohjA3ITLb8M"
      }
    },
    {
      "cell_type": "markdown",
      "source": [],
      "metadata": {
        "id": "_EJ7-sOkLtVN"
      }
    },
    {
      "cell_type": "markdown",
      "source": [
        "# Day 3 Challenge"
      ],
      "metadata": {
        "id": "p0iSLDyBLwNA"
      }
    },
    {
      "cell_type": "markdown",
      "source": [
        "Have a user input the following information:\n",
        "1. A food item\n",
        "2. Type of plant\n",
        "3. Method of cooking\n",
        "4. A word that describes burnt food\n",
        "5. A DIY item\n",
        "\n",
        "Concantenate these strings into the same line so that it makes a wacky recipe!"
      ],
      "metadata": {
        "id": "yb57FfAJMNgs"
      }
    },
    {
      "cell_type": "code",
      "source": [
        "food = input(\"Name a food.\")\n",
        "plant = input(\"Name a type of plant.\")\n",
        "cook = input(\"Name a method of cooking.\")\n",
        "burned_food = input(\"What word describes burned food?\")\n",
        "diy_item = input(\"Name a DIY item.\")\n",
        "\n",
        "print(\"MENU\")\n",
        "print(cook, food, burned_food, \"with\", plant, \"on a bed of\",diy_item)"
      ],
      "metadata": {
        "colab": {
          "base_uri": "https://localhost:8080/"
        },
        "id": "tPXNzvhtLyx7",
        "outputId": "a182aa62-74e9-456d-d925-0290db5813d1"
      },
      "execution_count": 5,
      "outputs": [
        {
          "output_type": "stream",
          "name": "stdout",
          "text": [
            "Name a food.Hamburger\n",
            "Name a type of plant.Fly Catchers\n",
            "Name a method of cooking.Deep Fried\n",
            "What word describes burned food?Disgusting\n",
            "Name a DIY item.Chisels\n",
            "MENU\n",
            "Deep Fried Hamburger Disgusting with Fly Catchers on a bed of Chisels\n"
          ]
        }
      ]
    }
  ]
}