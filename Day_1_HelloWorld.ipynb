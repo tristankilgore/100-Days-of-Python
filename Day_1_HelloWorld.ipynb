{
  "nbformat": 4,
  "nbformat_minor": 0,
  "metadata": {
    "colab": {
      "provenance": [],
      "toc_visible": true,
      "authorship_tag": "ABX9TyPBm4aqKjcbzy0/x7ELZu3S",
      "include_colab_link": true
    },
    "kernelspec": {
      "name": "python3",
      "display_name": "Python 3"
    },
    "language_info": {
      "name": "python"
    }
  },
  "cells": [
    {
      "cell_type": "markdown",
      "metadata": {
        "id": "view-in-github",
        "colab_type": "text"
      },
      "source": [
        "<a href=\"https://colab.research.google.com/github/tristankilgore/100-Days-of-Python/blob/main/Day_1_HelloWorld.ipynb\" target=\"_parent\"><img src=\"https://colab.research.google.com/assets/colab-badge.svg\" alt=\"Open In Colab\"/></a>"
      ]
    },
    {
      "cell_type": "markdown",
      "source": [
        "# Hello World!"
      ],
      "metadata": {
        "id": "5l95Rvej_plU"
      }
    },
    {
      "cell_type": "markdown",
      "source": [
        "In less than 20 minutes, learn the 'print' statement & share your first python project with the world! \n",
        "\n",
        "\n",
        "Day 1 Video: https://www.youtube.com/watch?v=ASZVEe2WkI4&t"
      ],
      "metadata": {
        "id": "JGkg97z37KLs"
      }
    },
    {
      "cell_type": "code",
      "source": [
        "# Here, we will print our first statement.\n",
        "print(\"Hello Replit\")"
      ],
      "metadata": {
        "colab": {
          "base_uri": "https://localhost:8080/"
        },
        "id": "mHw0QCex9hWD",
        "outputId": "ffc0c33b-1d2b-4592-b942-65f8971a5da8"
      },
      "execution_count": null,
      "outputs": [
        {
          "output_type": "stream",
          "name": "stdout",
          "text": [
            "Hello Replit\n"
          ]
        }
      ]
    },
    {
      "cell_type": "markdown",
      "source": [
        "As you can see, a statement is composed of three things:\n",
        "\n",
        "\n",
        "1. A function\n",
        "2. Parentheses\n",
        "3. Inputs\n",
        "\n",
        "\n",
        "\n",
        "\n",
        "\n",
        "\n",
        "\n"
      ],
      "metadata": {
        "id": "Urp48bIF9oI5"
      }
    }
  ]
}