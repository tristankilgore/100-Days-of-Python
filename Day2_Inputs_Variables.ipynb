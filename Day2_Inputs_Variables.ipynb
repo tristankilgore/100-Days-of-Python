{
  "nbformat": 4,
  "nbformat_minor": 0,
  "metadata": {
    "colab": {
      "provenance": [],
      "toc_visible": true,
      "authorship_tag": "ABX9TyNvx/fQmDVetcIRTkj6/Fse",
      "include_colab_link": true
    },
    "kernelspec": {
      "name": "python3",
      "display_name": "Python 3"
    },
    "language_info": {
      "name": "python"
    }
  },
  "cells": [
    {
      "cell_type": "markdown",
      "metadata": {
        "id": "view-in-github",
        "colab_type": "text"
      },
      "source": [
        "<a href=\"https://colab.research.google.com/github/tristankilgore/100-Days-of-Python/blob/main/Day2_Inputs_Variables.ipynb\" target=\"_parent\"><img src=\"https://colab.research.google.com/assets/colab-badge.svg\" alt=\"Open In Colab\"/></a>"
      ]
    },
    {
      "cell_type": "markdown",
      "source": [
        "# Inputs and Variables"
      ],
      "metadata": {
        "id": "LD73uujF_iR6"
      }
    },
    {
      "cell_type": "markdown",
      "source": [
        "Use three skills learned  (print, input, variables) to start creating some really epic projects.\n",
        "\n",
        "Day 2 Video: https://www.youtube.com/watch?v=b5tFeJ0Ol2Y"
      ],
      "metadata": {
        "id": "8xHn2YaM_SRy"
      }
    },
    {
      "cell_type": "markdown",
      "source": [
        "# Taking User Input"
      ],
      "metadata": {
        "id": "afO2VGQ8AmaS"
      }
    },
    {
      "cell_type": "code",
      "source": [
        "input(\"Name: \") # input() is very similar to print(), but it lets the end-user enter information!"
      ],
      "metadata": {
        "colab": {
          "base_uri": "https://localhost:8080/",
          "height": 53
        },
        "id": "1RTvE0rq_ggV",
        "outputId": "f1bc85df-2ab1-4bf4-b039-f53a8ccec419"
      },
      "execution_count": null,
      "outputs": [
        {
          "name": "stdout",
          "output_type": "stream",
          "text": [
            "Name: Tristan\n"
          ]
        },
        {
          "output_type": "execute_result",
          "data": {
            "text/plain": [
              "'Tristan'"
            ],
            "application/vnd.google.colaboratory.intrinsic+json": {
              "type": "string"
            }
          },
          "metadata": {},
          "execution_count": 1
        }
      ]
    },
    {
      "cell_type": "code",
      "source": [
        "input(\"What is your name?: \")"
      ],
      "metadata": {
        "colab": {
          "base_uri": "https://localhost:8080/",
          "height": 53
        },
        "id": "MM2buQLdATX2",
        "outputId": "ee7e7945-1d5d-4163-9b18-f9276c06bcc6"
      },
      "execution_count": null,
      "outputs": [
        {
          "name": "stdout",
          "output_type": "stream",
          "text": [
            "What is your name?: Tristan\n"
          ]
        },
        {
          "output_type": "execute_result",
          "data": {
            "text/plain": [
              "'Tristan'"
            ],
            "application/vnd.google.colaboratory.intrinsic+json": {
              "type": "string"
            }
          },
          "metadata": {},
          "execution_count": 2
        }
      ]
    },
    {
      "cell_type": "markdown",
      "source": [
        "The issue with the above statements is that it does not store the information! It just takes what someone has typed in and forgets it. Lets change that!"
      ],
      "metadata": {
        "id": "abx9UYV5AcmV"
      }
    },
    {
      "cell_type": "markdown",
      "source": [
        "# Variables"
      ],
      "metadata": {
        "id": "ZCqgK6qpAqno"
      }
    },
    {
      "cell_type": "markdown",
      "source": [
        "Variables allow us to store information within an object. \n",
        "\n",
        "When we call a variable within a statement or function, we call the information stores within it.\n",
        "\n",
        "Most people use two naming conventions for variables:\n",
        "1. snake_case\n",
        "2. camelCaseIsNiceToo\n",
        "3. PascalCase\n",
        "\n",
        "\n",
        "\n"
      ],
      "metadata": {
        "id": "eZ09AyZ8Au5u"
      }
    },
    {
      "cell_type": "code",
      "source": [
        "my_name = input(\"What is your name?: \")\n",
        "my_age = input(\"What is your age?: \")\n",
        "replit_sentiment = input(\"Do you like Replit?: \")\n",
        "\n",
        "print(my_name)\n",
        "print(my_age)\n",
        "print(replit_sentiment)\n",
        "\n",
        "print(my_name, \", \", my_age, \", \", replit_sentiment)"
      ],
      "metadata": {
        "colab": {
          "base_uri": "https://localhost:8080/"
        },
        "id": "mP8MZIncBQiC",
        "outputId": "aba3251c-e280-46c2-a08e-05ec3e88fb4b"
      },
      "execution_count": null,
      "outputs": [
        {
          "output_type": "stream",
          "name": "stdout",
          "text": [
            "What is your name?: Tristan\n",
            "What is your age?: 24\n",
            "Do you like Replit?: Yes!\n",
            "Tristan\n",
            "24\n",
            "Yes!\n",
            "Tristan ,  24 ,  Yes!\n"
          ]
        }
      ]
    },
    {
      "cell_type": "markdown",
      "source": [
        "# Day 2 Challenge"
      ],
      "metadata": {
        "id": "Rl8s19BtCPvX"
      }
    },
    {
      "cell_type": "markdown",
      "source": [
        "Getting to know you!\n",
        "\n",
        "What is your name?\n",
        "\n",
        "What is your favorite food?\n",
        "\n",
        "What is your favorite music\n",
        "\n",
        "Where do you live?\n"
      ],
      "metadata": {
        "id": "s5hzD39ICVWA"
      }
    },
    {
      "cell_type": "code",
      "source": [
        "my_name = input(\"What is your name?: \")\n",
        "\n",
        "fav_food = input(\"What is your favorite food?: \")\n",
        "\n",
        "fav_music = input(\"What is your favorite music?: \")\n",
        "\n",
        "location = input(\"Where do you live?: \")\n",
        "\n",
        "print(\"You are\")\n",
        "print(my_name)\n",
        "print(\"You are probably hungry for\")\n",
        "print(fav_food)\n",
        "print(\"and you are definitely getting your groove on to\")\n",
        "print(fav_music)\n",
        "print(\"living in the amazing\")\n",
        "print(location)"
      ],
      "metadata": {
        "colab": {
          "base_uri": "https://localhost:8080/"
        },
        "id": "Idws1nmQC5gJ",
        "outputId": "b106a420-0e82-43e6-895c-d9cd0c52fa07"
      },
      "execution_count": null,
      "outputs": [
        {
          "output_type": "stream",
          "name": "stdout",
          "text": [
            "What is your name?: Tristan\n",
            "What is your favorite food?: Pizza\n",
            "What is your favorite music?: Rap\n",
            "Where do you live?: Oklahoma\n",
            "You are\n",
            "Tristan\n",
            "You are probably hungry for\n",
            "Pizza\n",
            "and you are definitely getting your groove on to\n",
            "Rap\n",
            "living in the amazing\n",
            "Oklahoma\n"
          ]
        }
      ]
    }
  ]
}