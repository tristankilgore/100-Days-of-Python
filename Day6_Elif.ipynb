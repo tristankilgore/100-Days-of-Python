{
  "nbformat": 4,
  "nbformat_minor": 0,
  "metadata": {
    "colab": {
      "provenance": [],
      "toc_visible": true,
      "authorship_tag": "ABX9TyM03I+MvMhmJVh6zqAo7cKI",
      "include_colab_link": true
    },
    "kernelspec": {
      "name": "python3",
      "display_name": "Python 3"
    },
    "language_info": {
      "name": "python"
    }
  },
  "cells": [
    {
      "cell_type": "markdown",
      "metadata": {
        "id": "view-in-github",
        "colab_type": "text"
      },
      "source": [
        "<a href=\"https://colab.research.google.com/github/tristankilgore/100-Days-of-Python/blob/main/Day6_Elif.ipynb\" target=\"_parent\"><img src=\"https://colab.research.google.com/assets/colab-badge.svg\" alt=\"Open In Colab\"/></a>"
      ]
    },
    {
      "cell_type": "markdown",
      "source": [
        "# What the elif is this?"
      ],
      "metadata": {
        "id": "SXSmWJe6xqkk"
      }
    },
    {
      "cell_type": "markdown",
      "source": [
        "Learn 'elif' statements. Can you create a login system to keep passwords safe from hackers?\n",
        "\n",
        "Day 6 Video: https://youtu.be/Dm8lRtcnh0o"
      ],
      "metadata": {
        "id": "q6NdWiS2xzEl"
      }
    },
    {
      "cell_type": "markdown",
      "source": [
        "The elif command (which stands for 'elseif') allows you to ask 2, 3, 4 or 142 questions using the same input! This command must be in a certain place. You can have as many elif statements as you want, but they must go in between if and else and have the same indentation. The print statements in your elif command need to line up with the indent of the other print statements.\n",
        "\n",
        "Where would an elif statement go in the code below?"
      ],
      "metadata": {
        "id": "b0taevAryMz4"
      }
    },
    {
      "cell_type": "code",
      "source": [
        "print(\"SECURE LOGIN\")\n",
        "username = input(\"Username > \")\n",
        "if username == \"mark\":\n",
        "  print(\"Welcome Mark!\")\n",
        "else:\n",
        "  print(\"Go away!\")"
      ],
      "metadata": {
        "id": "-pSGysCaycUK"
      },
      "execution_count": null,
      "outputs": []
    },
    {
      "cell_type": "markdown",
      "source": [
        "An elif statement would go in between the if and else statements.\n",
        "\n",
        "Add this elif statement to the code above. Make sure you indent properly AND put it in between the if and else statements!"
      ],
      "metadata": {
        "id": "mN0HdXMayijk"
      }
    },
    {
      "cell_type": "code",
      "source": [
        "elif username == \"suzanne\":"
      ],
      "metadata": {
        "id": "ju3aU1HkzGLN"
      },
      "execution_count": null,
      "outputs": []
    },
    {
      "cell_type": "markdown",
      "source": [
        "Your code should look like this:"
      ],
      "metadata": {
        "id": "x39kEB2WzI2Q"
      }
    },
    {
      "cell_type": "code",
      "source": [
        "print(\"SECURE LOGIN\")\n",
        "username = input(\"Username > \")\n",
        "\n",
        "if username == \"mark\":\n",
        "  print(\"Welcome Mark!\")\n",
        "elif username == \"suzanne\":\n",
        "  print(\"Hey there Suzanne!\")\n",
        "else:\n",
        "  print(\"Go away!\")"
      ],
      "metadata": {
        "id": "0jpMFHjIzN5E"
      },
      "execution_count": null,
      "outputs": []
    },
    {
      "cell_type": "markdown",
      "source": [
        "# Day 6 Challenge"
      ],
      "metadata": {
        "id": "wwO8HHgU0DMU"
      }
    },
    {
      "cell_type": "code",
      "source": [
        "print(\"MY LOGIN SYSTEM\")\n",
        "print(\"+++++++++++++++\")\n",
        "print(\" \")\n",
        "username = input(\"Username > \")\n",
        "password = input(\"Password > \")\n",
        "\n",
        "if username == \"morgan\" and password == \"cactus\":\n",
        "  print(\"Hi Morgan! Have a great day!\")\n",
        "elif username == \"tristan\" and password == \"triscuit\":\n",
        "  print(\"Hi Tristan! Have a great day!\")\n",
        "elif username == \"melissa\" and password == \"molly\":\n",
        "  print(\"Hi Melissa! Have a great day!\")\n",
        "else:\n",
        "  print(\"INCORRECT USERNAME OR PASSWORD!\")\n"
      ],
      "metadata": {
        "id": "VJ0hgjrv0c8u"
      },
      "execution_count": null,
      "outputs": []
    }
  ]
}