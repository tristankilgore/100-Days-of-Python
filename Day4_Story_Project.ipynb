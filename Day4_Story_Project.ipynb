{
  "nbformat": 4,
  "nbformat_minor": 0,
  "metadata": {
    "colab": {
      "provenance": [],
      "toc_visible": true,
      "authorship_tag": "ABX9TyN542U8ThajrhUaOWXDVX1P",
      "include_colab_link": true
    },
    "kernelspec": {
      "name": "python3",
      "display_name": "Python 3"
    },
    "language_info": {
      "name": "python"
    }
  },
  "cells": [
    {
      "cell_type": "markdown",
      "metadata": {
        "id": "view-in-github",
        "colab_type": "text"
      },
      "source": [
        "<a href=\"https://colab.research.google.com/github/tristankilgore/100-Days-of-Python/blob/main/Day4_Story_Project.ipynb\" target=\"_parent\"><img src=\"https://colab.research.google.com/assets/colab-badge.svg\" alt=\"Open In Colab\"/></a>"
      ]
    },
    {
      "cell_type": "markdown",
      "source": [
        "# Day 4 Challenge"
      ],
      "metadata": {
        "id": "LfN7ZpOuOnsc"
      }
    },
    {
      "cell_type": "markdown",
      "source": [
        "Write your own adventure story and make your project POP with some color! \n",
        "\n",
        "Day 4 Video: https://youtu.be/oakgvGNYQoQ"
      ],
      "metadata": {
        "id": "9O6MSkToOrxH"
      }
    },
    {
      "cell_type": "markdown",
      "source": [
        "Everyone loves a good story!\n",
        "\n",
        "Well, you're going to create your own adventure story that places your user in the role of the main character and we'll even customize the story to suit their interests."
      ],
      "metadata": {
        "id": "3MsAyrGVPR5p"
      }
    },
    {
      "cell_type": "markdown",
      "source": [
        "# Your Task!"
      ],
      "metadata": {
        "id": "WoxAAb8oOuM3"
      }
    },
    {
      "cell_type": "markdown",
      "source": [
        "1. Ask your users to list a bunch of information about them: things they like, things they hate, names of family and friends... it's up to you how many and what kinds of things you pick. Keep it wacky!\n",
        "\n",
        "2. Construct your story. It can be about anything, bhut you must use the variables you created in step 1.\n",
        "\n",
        "3. Make sure to only work one paragraph at a time. Otherwise, things could get a bit *messy*."
      ],
      "metadata": {
        "id": "1MIka0_HOwBH"
      }
    },
    {
      "cell_type": "code",
      "source": [
        "name = input(\"What is your name?\")\n",
        "enemy_name = input(\"What is your worst enemies name?\")\n",
        "superpower = input(\"What is your superpower?\")\n",
        "location = input(\"Where do you live?\")\n",
        "food = input(\"What is your favorite food?\")\n",
        "\n",
        "print(\"\\033[0m'Hello'\\033[32m\", name, \"!\", \"Your ability to\", superpower, \"will make sure you never have to look at\", enemy_name, \"again. Go eat\", food, \"as you walk down the streets of\", location, \"and you use\", superpower, \"for good and not evil!\")"
      ],
      "metadata": {
        "colab": {
          "base_uri": "https://localhost:8080/"
        },
        "id": "A9M3nvsoQAPE",
        "outputId": "c7b5c15f-bbc1-4f12-dc17-7ad64c55da69"
      },
      "execution_count": 3,
      "outputs": [
        {
          "output_type": "stream",
          "name": "stdout",
          "text": [
            "What is your name?Tristan\n",
            "What is your worst enemies name?Khi\n",
            "What is your superpower?fly\n",
            "Where do you live?Norman\n",
            "What is your favorite food?pizza\n",
            "\u001b[0m'Hello'\u001b[31m Tristan ! Your ability to fly will make sure you never have to look at Khi again. Go eat pizza as you walk down the streets of Norman and you use fly for good and not evil!\n"
          ]
        }
      ]
    },
    {
      "cell_type": "markdown",
      "source": [
        "I have added ANSI color code \\033[0m before and after the \"Hello\". This will change the color of any words in between the two codes. Below, you can find a complete list of ANSI color codes assigned to variables."
      ],
      "metadata": {
        "id": "6SZUtwJqRX_F"
      }
    },
    {
      "cell_type": "code",
      "source": [
        "BLACK = \"\\033[0;30m\"\n",
        "RED = \"\\033[0;31m\"\n",
        "GREEN = \"\\033[0;32m\"\n",
        "BROWN = \"\\033[0;33m\"\n",
        "BLUE = \"\\033[0;34m\"\n",
        "PURPLE = \"\\033[0;35m\"\n",
        "CYAN = \"\\033[0;36m\"\n",
        "LIGHT_GRAY = \"\\033[0;37m\"\n",
        "DARK_GRAY = \"\\033[1;30m\"\n",
        "LIGHT_RED = \"\\033[1;31m\"\n",
        "LIGHT_GREEN = \"\\033[1;32m\"\n",
        "YELLOW = \"\\033[1;33m\"\n",
        "LIGHT_BLUE = \"\\033[1;34m\"\n",
        "LIGHT_PURPLE = \"\\033[1;35m\"\n",
        "LIGHT_CYAN = \"\\033[1;36m\"\n",
        "LIGHT_WHITE = \"\\033[1;37m\"\n",
        "BOLD = \"\\033[1m\"\n",
        "FAINT = \"\\033[2m\"\n",
        "ITALIC = \"\\033[3m\"\n",
        "UNDERLINE = \"\\033[4m\"\n",
        "BLINK = \"\\033[5m\"\n",
        "NEGATIVE = \"\\033[7m\"\n",
        "CROSSED = \"\\033[9m\"\n",
        "END = \"\\033[0m\""
      ],
      "metadata": {
        "id": "A2obndzjRyaD"
      },
      "execution_count": 5,
      "outputs": []
    }
  ]
}